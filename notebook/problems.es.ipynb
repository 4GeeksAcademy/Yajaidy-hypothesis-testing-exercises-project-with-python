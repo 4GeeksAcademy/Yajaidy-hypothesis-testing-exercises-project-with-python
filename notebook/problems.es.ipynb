{
 "cells": [
  {
   "cell_type": "markdown",
   "id": "d9d036c6",
   "metadata": {},
   "source": [
    "# Problemas de prueba de hipótesis"
   ]
  },
  {
   "cell_type": "markdown",
   "id": "d157c4db",
   "metadata": {},
   "source": [
    "## Ejercicio 1\n",
    "\n",
    "Usted es un nutricionista que investiga dos tipos diferentes de dietas para ver si existe una diferencia significativa en la pérdida de peso después de un mes. Eliges dos grupos aleatorios de personas; un grupo sigue la primera dieta y el otro sigue la segunda. Al final del mes, se registra la pérdida de peso (en kg) de cada persona:\n",
    "\n",
    "| Diet 1 | Diet 2 |\n",
    "|:-------|:-------|\n",
    "| 2.0 | 3.0 |\n",
    "| 2.5 | 3.2 |\n",
    "| 3.0 | 3.1 |\n",
    "| 2.8 | 2.9 |\n",
    "| 2.3 | 2.8 |\n",
    "| 2.7 | 3.0 |\n",
    "| 2.5 | 3.2 |\n",
    "\n",
    "Con estos datos se busca responder a la siguiente pregunta: ¿Existe una diferencia significativa en la pérdida de peso promedio entre las personas que siguieron la primera dieta y las que siguieron la segunda dieta?\n",
    "\n",
    "Para sacar conclusiones, siga los siguientes puntos:\n",
    "\n",
    "-Enunciar la hipótesis: hipótesis nula y alternativa.\n",
    "-Realizar la prueba para comprobar la hipótesis. Puede utilizar la prueba t de Student.\n",
    "-Analizar las conclusiones."
   ]
  },
  {
   "cell_type": "code",
   "execution_count": 9,
   "id": "8e0f3cf0",
   "metadata": {},
   "outputs": [
    {
     "name": "stdout",
     "output_type": "stream",
     "text": [
      "Valor-T: -3.5383407969933938\n",
      "Valor-P: 0.004083270191713912\n",
      "\n",
      "Al ser el Valor p inferior al 5 % (0,05), se rechaza la hipótesis nula y por tanto existe una diferencia importante en la pérdida de peso entre las dos dietas\n"
     ]
    }
   ],
   "source": [
    "# TODO\n",
    "\n",
    "import numpy as np\n",
    "import scipy.stats as stats\n",
    "\n",
    "'''Definición de variables'''\n",
    "\n",
    "dieta_1= np.array([2,2.5,3,2.8,2.3,2.7,2.5])\n",
    "dieta_2= np.array([3,3.2,3.1,2.9,2.8,3,3.2])\n",
    "\n",
    "'''Prueba de t Student'''\n",
    "\n",
    "valor_t, valor_p = stats.ttest_ind(dieta_1, dieta_2)\n",
    "\n",
    "print(f\"Valor-T: {valor_t}\")\n",
    "print(f\"Valor-P: {valor_p}\")\n",
    "\n",
    "print(\"\\nAl ser el Valor p inferior al 5 % (0,05), se rechaza la hipótesis nula y por tanto \" \\\n",
    "\"existe una diferencia importante en la pérdida de peso entre las dos dietas\")\n"
   ]
  },
  {
   "cell_type": "markdown",
   "id": "f432e18e",
   "metadata": {},
   "source": [
    "## ANOVA\n",
    "\n",
    "**ANOVA** (*Analysis of Variance - Análisis de variación*) Es una técnica estadística utilizada para comparar las medidas de dos o más grupos. La idea detrás de ANOVA es descomponer la variabilidad total de los datos en dos componentes: variabilidad entre grupos y variabilidad dentro de los grupos:\n",
    "\n",
    "- **Variabilidad entre grupos**: Esta variabilidad se refiere a las diferencias entre las medias del grupo. Si esta variabilidad es considerablemente mayor que la variabilidad dentro del grupo, podría ser una indicación de que al menos una de las medias del grupo es diferente.\n",
    "- **Variabilidad dentro del grupo**: Esta variabilidad se refiere a la dispersión de los datos dentro de cada grupo. Si todos los grupos tienen una variabilidad similar, entonces cualquier diferencia notable en las medias de los grupos podría considerarse significativa.\n",
    "\n",
    "Las hipótesis en ANOVA suelen incluir:\n",
    "\n",
    "- **Hipótesis nula** ($H₀$): Las medias de todos los grupos son iguales.\n",
    "- **Hipótesis alternativa** ($H₁$): Al menos una de las medias del grupo es diferente.\n",
    "\n",
    "Si el resultado de la prueba ANOVA es significativo (por ejemplo, un valor p inferior a un umbral como 0,05), esto sugiere que al menos la media de un grupo es diferente."
   ]
  },
  {
   "cell_type": "markdown",
   "id": "fc5f3721",
   "metadata": {},
   "source": [
    "## Ejercicio 2\n",
    "\n",
    "Un agricultor decide probar tres tipos diferentes de fertilizantes para determinar si alguno es superior en términos de producción de maíz. El agricultor planta maíz en 15 parcelas idénticas y utiliza los tres fertilizantes (5 parcelas para cada tipo). Al final de la temporada mide el rendimiento de maíz (en kg) de cada parcela, con el siguiente resultado:\n",
    "\n",
    "| Fertilizante 1 | Fertilizante 2 | Fertilizante 3 |\n",
    "|:-------------|:-------------|:-------------|\n",
    "| 20 | 22 | 24 |\n",
    "| 21 | 21 | 23 |\n",
    "| 20 | 23 | 22 |\n",
    "| 19 | 22 | 23 |\n",
    "| 20 | 21 | 24 |\n",
    "\n",
    "Con estos datos busca responder la siguiente pregunta: ¿Existe una diferencia significativa en el rendimiento promedio del maíz entre los tres tipos de fertilizantes?\n",
    "\n",
    "Para ayudarte, sigue los siguientes puntos:\n",
    "\n",
    "-Enunciar la hipótesis: hipótesis nula y alternativa.\n",
    "-Realizar la prueba ANOVA.\n",
    "-Analizar las conclusiones.\n",
    "-Si un fertilizante es mejor que otro, ¿cómo podemos saberlo?"
   ]
  },
  {
   "cell_type": "code",
   "execution_count": 3,
   "id": "eecad0ca",
   "metadata": {},
   "outputs": [
    {
     "name": "stdout",
     "output_type": "stream",
     "text": [
      "Valor-F=  20.31578947368421\n",
      "\n",
      "Valor-P=  0.000140478247931904\n",
      "\n",
      "Se rechaza la hipótesis nula\n",
      "\n",
      "Conclusión: Al menos una de las medias de los grupos es significativamente diferente.\n",
      "       Multiple Comparison of Means - Tukey HSD, FWER=0.05        \n",
      "==================================================================\n",
      "    group1         group2     meandiff p-adj  lower  upper  reject\n",
      "------------------------------------------------------------------\n",
      "Fertilizante 1 Fertilizante 2      1.8 0.0099 0.4572 3.1428   True\n",
      "Fertilizante 1 Fertilizante 3      3.2 0.0001 1.8572 4.5428   True\n",
      "Fertilizante 2 Fertilizante 3      1.4 0.0409 0.0572 2.7428   True\n",
      "------------------------------------------------------------------\n",
      "Conclusion= la prueba de Tukey compara los grupos de dos en dos y muestra cuáles son diferentes:Fertilizante 3 tiene rendimientos significativamente mayores que Fertilizante 1 y 2.Fertilizante 2 también es mejor que Fertilizante 1, aunque la diferencia es menor que la de Fertilizante 3.El Fertilizante 3 es el mejor en términos de rendimiento promedio.\n"
     ]
    }
   ],
   "source": [
    "# TODO\n",
    "import numpy as np\n",
    "import scipy.stats as stats\n",
    "\n",
    "'''Definición de variables'''\n",
    "\n",
    "fertilizante_1= np.array([20,21,20,19,20])\n",
    "fertilizante_2= np.array([22,21,23,22,21])\n",
    "fertilizante_3= np.array([24,23,22,23,24])\n",
    "\n",
    "'''Prueba de ANOVA'''\n",
    "\n",
    "valor_f, valor_p2= stats.f_oneway(fertilizante_1, fertilizante_2, fertilizante_3)\n",
    "print(\"Valor-F= \", valor_f)\n",
    "print(\"\\nValor-P= \", valor_p2)\n",
    "\n",
    "'''Nivel de significancia'''\n",
    "\n",
    "alfa = 0.05\n",
    "\n",
    "if valor_p2 < alfa:\n",
    "    print(\"\\nSe rechaza la hipótesis nula\")\n",
    "    print(\"\\nConclusión: Al menos una de las medias de los grupos es significativamente diferente.\")\n",
    "else:\n",
    "    print(\"\\nNo se puede rechazar la hipótesis nula\")\n",
    "    print(\"\\nConclusión: No hay suficiente evidencia para afirmar que las medias son diferentes.\")\n",
    "\n",
    "\n",
    "'''Calcular el mejor fertilizante'''\n",
    "\n",
    "import numpy as np\n",
    "from statsmodels.stats.multicomp import pairwise_tukeyhsd\n",
    "\n",
    "valores = np.concatenate([fertilizante_1, fertilizante_2, fertilizante_3])\n",
    "grupos = ([\"Fertilizante 1\"]*len(fertilizante_1) + \n",
    "          [\"Fertilizante 2\"]*len(fertilizante_2) + \n",
    "          [\"Fertilizante 3\"]*len(fertilizante_3))\n",
    "\n",
    "# Aplicar Tukey\n",
    "tukey = pairwise_tukeyhsd(endog=valores, groups=grupos, alpha=0.05)\n",
    "print(tukey)\n",
    "\n",
    "print('Conclusion= la prueba de Tukey compara los grupos de dos en dos y muestra cuáles son diferentes:' \\\n",
    "'Fertilizante 3 tiene rendimientos significativamente mayores que Fertilizante 1 y 2.' \\\n",
    "'Fertilizante 2 también es mejor que Fertilizante 1, aunque la diferencia es menor que la de Fertilizante 3.' \\\n",
    "'El Fertilizante 3 es el mejor en términos de rendimiento promedio.')\n"
   ]
  }
 ],
 "metadata": {
  "kernelspec": {
   "display_name": "Python 3",
   "language": "python",
   "name": "python3"
  },
  "language_info": {
   "codemirror_mode": {
    "name": "ipython",
    "version": 3
   },
   "file_extension": ".py",
   "mimetype": "text/x-python",
   "name": "python",
   "nbconvert_exporter": "python",
   "pygments_lexer": "ipython3",
   "version": "3.11.4"
  }
 },
 "nbformat": 4,
 "nbformat_minor": 5
}
